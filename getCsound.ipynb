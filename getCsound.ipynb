{
  "nbformat": 4,
  "nbformat_minor": 0,
  "metadata": {
    "colab": {
      "provenance": [],
      "authorship_tag": "ABX9TyOKfzLp2lF/nq+CdSHzCJr6",
      "include_colab_link": true
    },
    "kernelspec": {
      "name": "python3",
      "display_name": "Python 3"
    },
    "language_info": {
      "name": "python"
    },
    "gpuClass": "standard",
    "accelerator": "GPU"
  },
  "cells": [
    {
      "cell_type": "markdown",
      "metadata": {
        "id": "view-in-github",
        "colab_type": "text"
      },
      "source": [
        "<a href=\"https://colab.research.google.com/github/hfathie/hfvSPH_on_GPU/blob/main/getCsound.ipynb\" target=\"_parent\"><img src=\"https://colab.research.google.com/assets/colab-badge.svg\" alt=\"Open In Colab\"/></a>"
      ]
    },
    {
      "cell_type": "code",
      "execution_count": 8,
      "metadata": {
        "colab": {
          "base_uri": "https://localhost:8080/"
        },
        "id": "RPSSFrN5mXaZ",
        "outputId": "3e9a2913-e683-4ea1-ab78-6d7b071df103"
      },
      "outputs": [
        {
          "output_type": "stream",
          "name": "stdout",
          "text": [
            "Overwriting test.cu\n"
          ]
        }
      ],
      "source": [
        "%%writefile test.cu\n",
        "#include <iostream> // iostream, fstream, cmath, string, vector, sstream.\n",
        "#include <fstream>\n",
        "#include <cmath>\n",
        "#include <string>\n",
        "#include <vector>\n",
        "#include <sstream>\n",
        "#include \"myCppSPHLibs.h\"\n",
        "using namespace std;\n",
        "\n",
        "const int N = 131504;\n",
        "\n",
        "float mH = 1.6726e-24; // gram\n",
        "float kB = 1.3807e-16; // cm2 g s-2 K-1\n",
        "float mH2 = 2.7f * mH; \n",
        "\n",
        "float M_sun = 1.98992e+33; // gram\n",
        "float grav_const_in_cgs = 6.67259e-8;// cm3 g-1 s-2\n",
        "\n",
        "float G = 1.0f;\n",
        "\n",
        "float gammah = 5.0f/3.0f;\n",
        "\n",
        "float UnitRadius_in_pc = 2.0f;\n",
        "float UnitRadius_in_cm = 3.086e18 * UnitRadius_in_pc;\n",
        "\n",
        "float UnitMass_in_g = 10.0f * M_sun;\n",
        "float UnitDensity_in_cgs = UnitMass_in_g / UnitRadius_in_cm/UnitRadius_in_cm/UnitRadius_in_cm;\n",
        "float Unit_u_in_cgs = grav_const_in_cgs * UnitMass_in_g / UnitRadius_in_cm;\n",
        "float Unit_P_in_cgs = UnitDensity_in_cgs * Unit_u_in_cgs;\n",
        "\n",
        "float unitVelocity = sqrt(grav_const_in_cgs * UnitMass_in_g / UnitRadius_in_cm);\n",
        "\n",
        "\n",
        "int main(){\n",
        "\n",
        "  // Reading Hydra file.\n",
        "  string fname = \"Hydra_130k.csv\";\n",
        "\n",
        "  vector<vector<string>> content;\n",
        "  vector<string> row;\n",
        "  string line, word;\n",
        "  \n",
        "  fstream file (fname, ios::in);\n",
        "  if(file.is_open())\n",
        "  {\n",
        "  while(getline(file, line))\n",
        "  {\n",
        "  row.clear();\n",
        "  \n",
        "  stringstream str(line);\n",
        "  \n",
        "  while(getline(str, word, ','))\n",
        "  row.push_back(word);\n",
        "  content.push_back(row);\n",
        "  }\n",
        "  }\n",
        "  else\n",
        "  cout<<\"Could not open the file\\n\";\n",
        "\n",
        "  float *csnd, *d_csnd, *rho, *d_rho, T_cld, T_ps, T_0, kBmH2;\n",
        "\n",
        "  T_cld = 10.0f;\n",
        "  T_ps = 10.0f;\n",
        "  T_0 = 10.0f;\n",
        "\n",
        "  kBmH2 = kB/mH2;\n",
        "\n",
        "  rho = new float[N];\n",
        "  csnd = new float[N];\n",
        "\n",
        "  // 0  1  2  3   4   5    6   7  8  9  10\n",
        "  // x, y, z, vx, vy, vz, rho, P, c, h, m.\n",
        "\n",
        "  for(int i=0; i<N; i++){\n",
        "\n",
        "    rho[i] = stof(content[i][6]);\n",
        "    csnd[i] = 0.0f;\n",
        "  }\n",
        "\n",
        "  cudaMalloc(&d_rho, N*sizeof(float));\n",
        "  cudaMalloc(&d_csnd, N*sizeof(float));\n",
        "\n",
        "  // Copy from Host to Device.\n",
        "  cudaMemcpy(d_rho, rho, N*sizeof(float), cudaMemcpyHostToDevice);\n",
        "  cudaMemcpy(d_csnd, csnd, N*sizeof(float), cudaMemcpyHostToDevice);\n",
        "\n",
        "  // Launching the kernel on GPU\n",
        "  int blockSize = 256; // number of threads in a block\n",
        "  int gridSize = (N + blockSize - 1) / blockSize; // Number of blocks in a grid\n",
        "\n",
        "  getCsound<<<gridSize, blockSize>>>(d_csnd, d_rho, T_cld,\n",
        "                                       T_ps, T_0, kBmH2,\n",
        "                                       UnitDensity_in_cgs,\n",
        "                                       unitVelocity,\n",
        "                                       gammah, N);\n",
        "\n",
        "  // Wait for the GPU to finish before accessing the Host\n",
        "  cudaDeviceSynchronize();\n",
        "\n",
        "  // Copy from Device to Host.\n",
        "  cudaMemcpy(csnd, d_csnd, N*sizeof(float), cudaMemcpyDeviceToHost);\n",
        "\n",
        "  // visual inspection\n",
        "  for(int i = 0; i < 10; i++){\n",
        "    cout << csnd[i] << endl;\n",
        "  }\n",
        "\n",
        "  return 0;\n",
        "}"
      ]
    },
    {
      "cell_type": "code",
      "source": [
        "%%shell\n",
        "nvcc test.cu -o test"
      ],
      "metadata": {
        "colab": {
          "base_uri": "https://localhost:8080/"
        },
        "id": "s3YvHg0UvJGq",
        "outputId": "e6905200-e621-41f5-a540-0f295b911750"
      },
      "execution_count": 9,
      "outputs": [
        {
          "output_type": "execute_result",
          "data": {
            "text/plain": []
          },
          "metadata": {},
          "execution_count": 9
        }
      ]
    },
    {
      "cell_type": "code",
      "source": [
        "%%shell\n",
        "./test"
      ],
      "metadata": {
        "colab": {
          "base_uri": "https://localhost:8080/"
        },
        "id": "00m5gw2rvYcq",
        "outputId": "ad6d5172-07cf-44c2-d1f1-41d0924834de"
      },
      "execution_count": 11,
      "outputs": [
        {
          "output_type": "stream",
          "name": "stdout",
          "text": [
            "1.19212\n",
            "1.19212\n",
            "1.19212\n",
            "1.19212\n",
            "1.19212\n",
            "1.19212\n",
            "1.19212\n",
            "1.19212\n",
            "1.19212\n",
            "1.19212\n"
          ]
        },
        {
          "output_type": "execute_result",
          "data": {
            "text/plain": []
          },
          "metadata": {},
          "execution_count": 11
        }
      ]
    },
    {
      "cell_type": "code",
      "source": [
        "%%shell\n",
        "nvprof ./test"
      ],
      "metadata": {
        "colab": {
          "base_uri": "https://localhost:8080/"
        },
        "id": "CqkSplnivc0C",
        "outputId": "c4d47094-d5cd-4a32-b248-f65e01b4c65e"
      },
      "execution_count": 12,
      "outputs": [
        {
          "output_type": "stream",
          "name": "stdout",
          "text": [
            "==303== NVPROF is profiling process 303, command: ./test\n",
            "1.19212\n",
            "1.19212\n",
            "1.19212\n",
            "1.19212\n",
            "1.19212\n",
            "1.19212\n",
            "1.19212\n",
            "1.19212\n",
            "1.19212\n",
            "1.19212\n",
            "==303== Profiling application: ./test\n",
            "==303== Profiling result:\n",
            "            Type  Time(%)      Time     Calls       Avg       Min       Max  Name\n",
            " GPU activities:   56.61%  91.935us         2  45.967us  45.888us  46.047us  [CUDA memcpy HtoD]\n",
            "                   25.87%  42.016us         1  42.016us  42.016us  42.016us  [CUDA memcpy DtoH]\n",
            "                   17.52%  28.448us         1  28.448us  28.448us  28.448us  getCsound(float*, float*, float, float, float, float, float, float, float)\n",
            "      API calls:   99.62%  291.51ms         2  145.75ms  5.1590us  291.50ms  cudaMalloc\n",
            "                    0.16%  466.05us         3  155.35us  138.65us  165.58us  cudaMemcpy\n",
            "                    0.13%  370.54us         1  370.54us  370.54us  370.54us  cuDeviceTotalMem\n",
            "                    0.05%  151.74us       101  1.5020us     124ns  64.214us  cuDeviceGetAttribute\n",
            "                    0.02%  60.408us         1  60.408us  60.408us  60.408us  cudaDeviceSynchronize\n",
            "                    0.01%  29.378us         1  29.378us  29.378us  29.378us  cuDeviceGetName\n",
            "                    0.01%  25.975us         1  25.975us  25.975us  25.975us  cudaLaunchKernel\n",
            "                    0.00%  6.6120us         1  6.6120us  6.6120us  6.6120us  cuDeviceGetPCIBusId\n",
            "                    0.00%  1.7420us         3     580ns     242ns  1.1520us  cuDeviceGetCount\n",
            "                    0.00%  1.6830us         2     841ns     648ns  1.0350us  cuDeviceGet\n",
            "                    0.00%     247ns         1     247ns     247ns     247ns  cuDeviceGetUuid\n"
          ]
        },
        {
          "output_type": "execute_result",
          "data": {
            "text/plain": []
          },
          "metadata": {},
          "execution_count": 12
        }
      ]
    },
    {
      "cell_type": "code",
      "source": [],
      "metadata": {
        "id": "pPnKLVk5xXMq"
      },
      "execution_count": null,
      "outputs": []
    }
  ]
}