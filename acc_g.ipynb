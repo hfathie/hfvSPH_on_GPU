{
  "nbformat": 4,
  "nbformat_minor": 0,
  "metadata": {
    "colab": {
      "provenance": [],
      "authorship_tag": "ABX9TyN1oj4dCwJR4/VPHP0a71fZ",
      "include_colab_link": true
    },
    "kernelspec": {
      "name": "python3",
      "display_name": "Python 3"
    },
    "language_info": {
      "name": "python"
    },
    "accelerator": "GPU",
    "gpuClass": "standard"
  },
  "cells": [
    {
      "cell_type": "markdown",
      "metadata": {
        "id": "view-in-github",
        "colab_type": "text"
      },
      "source": [
        "<a href=\"https://colab.research.google.com/github/hfathie/hfvSPH_on_GPU/blob/main/acc_g.ipynb\" target=\"_parent\"><img src=\"https://colab.research.google.com/assets/colab-badge.svg\" alt=\"Open In Colab\"/></a>"
      ]
    },
    {
      "cell_type": "code",
      "execution_count": 22,
      "metadata": {
        "colab": {
          "base_uri": "https://localhost:8080/"
        },
        "id": "t7_4090Bmebx",
        "outputId": "2db6e403-307e-4f8b-972d-712dcec38ff7"
      },
      "outputs": [
        {
          "output_type": "stream",
          "name": "stdout",
          "text": [
            "Overwriting test.cu\n"
          ]
        }
      ],
      "source": [
        "%%writefile test.cu\n",
        "#include <iostream>\n",
        "#include <fstream>\n",
        "#include <cmath>\n",
        "#include <string>\n",
        "#include <vector>\n",
        "#include <sstream>\n",
        "#include \"myCppSPHLibs.h\"\n",
        "using namespace std;\n",
        "\n",
        "const int N = 131504;\n",
        "const float G = 1.0f;\n",
        "\n",
        "\n",
        "int main(){\n",
        "\n",
        "  // Reading Hydra file.\n",
        "  string fname = \"Hydra_130k.csv\";\n",
        "\n",
        "  vector<vector<string>> content;\n",
        "  vector<string> row;\n",
        "  string line, word;\n",
        "  \n",
        "  fstream file (fname, ios::in);\n",
        "  if(file.is_open())\n",
        "  {\n",
        "  while(getline(file, line))\n",
        "  {\n",
        "  row.clear();\n",
        "  \n",
        "  stringstream str(line);\n",
        "  \n",
        "  while(getline(str, word, ','))\n",
        "  row.push_back(word);\n",
        "  content.push_back(row);\n",
        "  }\n",
        "  }\n",
        "  else\n",
        "  cout<<\"Could not open the file\\n\";\n",
        " \n",
        "  // creating x, y, z arrays in Shared Memorty containing random values between 0 and 1.0\n",
        "  float *x, *d_x, *y, *d_y, *z, *d_z, *eps, *d_eps, *accx, *accy, *accz, *d_accx, *d_accy, *d_accz, *mass, *d_mass;\n",
        "  x = new float[N];\n",
        "  y = new float[N];\n",
        "  z = new float[N];\n",
        "\n",
        "  accx = new float[N];\n",
        "  accy = new float[N];\n",
        "  accz = new float[N];\n",
        "\n",
        "  eps = new float[N];\n",
        "  mass = new float[N];\n",
        "\n",
        "  cudaMalloc(&d_x, N*sizeof(float));\n",
        "  cudaMalloc(&d_y, N*sizeof(float));\n",
        "  cudaMalloc(&d_z, N*sizeof(float));\n",
        "\n",
        "  cudaMalloc(&d_accx, N*sizeof(float));\n",
        "  cudaMalloc(&d_accy, N*sizeof(float));\n",
        "  cudaMalloc(&d_accz, N*sizeof(float));\n",
        "\n",
        "  cudaMalloc(&d_eps, N*sizeof(float));\n",
        "  cudaMalloc(&d_mass, N*sizeof(float));\n",
        "\n",
        "  // Initialize x, y, and z on the Host.\n",
        "  // 0  1  2  3   4   5    6   7  8  9  10\n",
        "  // x, y, z, vx, vy, vz, rho, P, c, h, m.\n",
        "\n",
        "  for(int i=0; i<N; i++){\n",
        "\n",
        "    x[i] = stof(content[i][0]);\n",
        "    y[i] = stof(content[i][1]);\n",
        "    z[i] = stof(content[i][2]);\n",
        "\n",
        "    mass[i] = stof(content[i][10]);\n",
        "    eps[i] = 0.0001f;\n",
        "  }\n",
        "\n",
        "  // Copy from Host to Device.\n",
        "  cudaMemcpy(d_x, x, N*sizeof(float), cudaMemcpyHostToDevice);\n",
        "  cudaMemcpy(d_y, y, N*sizeof(float), cudaMemcpyHostToDevice);\n",
        "  cudaMemcpy(d_z, z, N*sizeof(float), cudaMemcpyHostToDevice);\n",
        "\n",
        "  cudaMemcpy(d_accx, accx, N*sizeof(float), cudaMemcpyHostToDevice);\n",
        "  cudaMemcpy(d_accy, accy, N*sizeof(float), cudaMemcpyHostToDevice);\n",
        "  cudaMemcpy(d_accz, accz, N*sizeof(float), cudaMemcpyHostToDevice);\n",
        "\n",
        "  cudaMemcpy(d_eps, eps, N*sizeof(float), cudaMemcpyHostToDevice);\n",
        "  cudaMemcpy(d_mass, mass, N*sizeof(float), cudaMemcpyHostToDevice);\n",
        "\n",
        "\n",
        "  // Launching the kernel on GPU\n",
        "  int blockSize = 256; // number of threads in a block\n",
        "  int gridSize = (N + blockSize - 1) / blockSize; // Number of blocks in a grid\n",
        "\n",
        "  acc_g<<<gridSize, blockSize>>>(d_x, d_y, d_z, d_eps, d_accx, d_accy, d_accz,\n",
        "                                 d_mass, G, N);\n",
        "\n",
        "  // Wait for the GPU to finish before accessing the Host\n",
        "  cudaDeviceSynchronize();\n",
        "\n",
        "  // Copy from Device to Host.\n",
        "  cudaMemcpy(accx, d_accx, N*sizeof(float), cudaMemcpyDeviceToHost);\n",
        "  cudaMemcpy(accy, d_accy, N*sizeof(float), cudaMemcpyDeviceToHost);\n",
        "  cudaMemcpy(accz, d_accz, N*sizeof(float), cudaMemcpyDeviceToHost);\n",
        "\n",
        "  // visual inspection\n",
        "  for(int i = N-10; i < N; i++){\n",
        "    cout << accx[i] << ' ' << accy[i] << ' ' << accz[i] << endl;\n",
        "  }\n",
        "\n",
        "  // Free memory\n",
        "  cudaFree(d_x);\n",
        "  cudaFree(d_y);\n",
        "  cudaFree(d_z);\n",
        "\n",
        "  cudaFree(d_accx);\n",
        "  cudaFree(d_accy);\n",
        "  cudaFree(d_accz);\n",
        "\n",
        "  cudaFree(d_eps);\n",
        "  cudaFree(d_mass);\n",
        "\n",
        "  delete[] x;\n",
        "  delete[] y;\n",
        "  delete[] z;\n",
        "\n",
        "  delete[] accx;\n",
        "  delete[] accy;\n",
        "  delete[] accz;\n",
        "\n",
        "  delete[] eps;\n",
        "  delete[] mass;\n",
        "\n",
        "}"
      ]
    },
    {
      "cell_type": "code",
      "source": [
        "%%shell\n",
        "nvcc test.cu -o test"
      ],
      "metadata": {
        "colab": {
          "base_uri": "https://localhost:8080/"
        },
        "id": "IgCutUTLnK0v",
        "outputId": "740d5d82-12ea-4f0a-aeb0-3809a259474c"
      },
      "execution_count": 23,
      "outputs": [
        {
          "output_type": "execute_result",
          "data": {
            "text/plain": []
          },
          "metadata": {},
          "execution_count": 23
        }
      ]
    },
    {
      "cell_type": "code",
      "source": [
        "%%shell\n",
        "./test"
      ],
      "metadata": {
        "colab": {
          "base_uri": "https://localhost:8080/"
        },
        "id": "se5kKhMsnRuG",
        "outputId": "0cc05186-c6ae-4481-a8e1-135f4cf949d1"
      },
      "execution_count": 24,
      "outputs": [
        {
          "output_type": "stream",
          "name": "stdout",
          "text": [
            "0.407932 -0.230976 1.40708\n",
            "0.560065 0.433586 0.464642\n",
            "0.255245 0.402763 -0.770751\n",
            "-0.56541 0.0508879 0.818156\n",
            "-0.319113 0.37269 0.960332\n",
            "-0.439767 0.293 -0.760744\n",
            "0.165745 0.907049 -0.326253\n",
            "-0.97706 -0.616284 0.133909\n",
            "-0.106655 -0.217472 -1.06187\n",
            "-0.345128 1.01841 -0.0682514\n"
          ]
        },
        {
          "output_type": "execute_result",
          "data": {
            "text/plain": []
          },
          "metadata": {},
          "execution_count": 24
        }
      ]
    },
    {
      "cell_type": "code",
      "source": [
        "%%shell\n",
        "nvprof ./test"
      ],
      "metadata": {
        "colab": {
          "base_uri": "https://localhost:8080/"
        },
        "id": "f96qgWq1puNz",
        "outputId": "d75e973f-91b7-4ff9-d8bb-b8a2a046bd15"
      },
      "execution_count": 25,
      "outputs": [
        {
          "output_type": "stream",
          "name": "stdout",
          "text": [
            "==573== NVPROF is profiling process 573, command: ./test\n",
            "0.407932 -0.230976 1.40708\n",
            "0.560065 0.433586 0.464642\n",
            "0.255245 0.402763 -0.770751\n",
            "-0.56541 0.0508879 0.818156\n",
            "-0.319113 0.37269 0.960332\n",
            "-0.439767 0.293 -0.760744\n",
            "0.165745 0.907049 -0.326253\n",
            "-0.97706 -0.616284 0.133909\n",
            "-0.106655 -0.217472 -1.06187\n",
            "-0.345128 1.01841 -0.0682514\n",
            "==573== Profiling application: ./test\n",
            "==573== Profiling result:\n",
            "            Type  Time(%)      Time     Calls       Avg       Min       Max  Name\n",
            " GPU activities:   99.89%  461.63ms         1  461.63ms  461.63ms  461.63ms  acc_g(float*, float*, float*, float*, float*, float*, float*, float*, float, int)\n",
            "                    0.08%  383.61us         8  47.951us  47.519us  48.383us  [CUDA memcpy HtoD]\n",
            "                    0.03%  124.00us         3  41.332us  41.215us  41.439us  [CUDA memcpy DtoH]\n",
            "      API calls:   66.63%  461.67ms         1  461.67ms  461.67ms  461.67ms  cudaDeviceSynchronize\n",
            "                   32.84%  227.56ms         8  28.444ms  2.6310us  227.35ms  cudaMalloc\n",
            "                    0.37%  2.5739ms        11  233.99us  162.44us  576.61us  cudaMemcpy\n",
            "                    0.06%  441.34us         1  441.34us  441.34us  441.34us  cuDeviceTotalMem\n",
            "                    0.05%  359.52us         8  44.940us  3.0700us  159.36us  cudaFree\n",
            "                    0.03%  183.23us       101  1.8140us     148ns  77.758us  cuDeviceGetAttribute\n",
            "                    0.01%  37.187us         1  37.187us  37.187us  37.187us  cudaLaunchKernel\n",
            "                    0.01%  36.344us         1  36.344us  36.344us  36.344us  cuDeviceGetName\n",
            "                    0.00%  7.0160us         1  7.0160us  7.0160us  7.0160us  cuDeviceGetPCIBusId\n",
            "                    0.00%  2.5870us         3     862ns     292ns  1.6480us  cuDeviceGetCount\n",
            "                    0.00%  1.5310us         2     765ns     443ns  1.0880us  cuDeviceGet\n",
            "                    0.00%     337ns         1     337ns     337ns     337ns  cuDeviceGetUuid\n"
          ]
        },
        {
          "output_type": "execute_result",
          "data": {
            "text/plain": []
          },
          "metadata": {},
          "execution_count": 25
        }
      ]
    },
    {
      "cell_type": "code",
      "source": [],
      "metadata": {
        "id": "IosxamR3GBzO"
      },
      "execution_count": null,
      "outputs": []
    }
  ]
}