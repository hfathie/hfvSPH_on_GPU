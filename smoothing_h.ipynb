{
  "nbformat": 4,
  "nbformat_minor": 0,
  "metadata": {
    "colab": {
      "provenance": [],
      "authorship_tag": "ABX9TyPIRxDV0+yFKGGiECdhXtvV",
      "include_colab_link": true
    },
    "kernelspec": {
      "name": "python3",
      "display_name": "Python 3"
    },
    "language_info": {
      "name": "python"
    },
    "accelerator": "GPU",
    "gpuClass": "standard"
  },
  "cells": [
    {
      "cell_type": "markdown",
      "metadata": {
        "id": "view-in-github",
        "colab_type": "text"
      },
      "source": [
        "<a href=\"https://colab.research.google.com/github/hfathie/hfvSPH_on_GPU/blob/main/smoothing_h.ipynb\" target=\"_parent\"><img src=\"https://colab.research.google.com/assets/colab-badge.svg\" alt=\"Open In Colab\"/></a>"
      ]
    },
    {
      "cell_type": "code",
      "execution_count": 14,
      "metadata": {
        "colab": {
          "base_uri": "https://localhost:8080/"
        },
        "id": "CaSjH_i0FDxR",
        "outputId": "a9ece702-5625-4924-8480-2b2141860dfe"
      },
      "outputs": [
        {
          "output_type": "stream",
          "name": "stdout",
          "text": [
            "Overwriting test.cu\n"
          ]
        }
      ],
      "source": [
        "%%writefile test.cu\n",
        "#include <iostream> // iostream, fstream, cmath, string, vector, sstream.\n",
        "#include <fstream>\n",
        "#include <cmath>\n",
        "#include <string>\n",
        "#include <vector>\n",
        "#include <sstream>\n",
        "#include \"myCppSPHLibs.h\"\n",
        "using namespace std;\n",
        "\n",
        "const int N = 131504;\n",
        "const int Nngb = 64;\n",
        "const int Ndown = Nngb - 5;\n",
        "const int Nup = Nngb + 5;\n",
        "const float coeff = 0.001;\n",
        "\n",
        "\n",
        "int main(){\n",
        "\n",
        "  // Reading Hydra file.\n",
        "  string fname = \"Hydra_130k.csv\";\n",
        "\n",
        "  vector<vector<string>> content;\n",
        "  vector<string> row;\n",
        "  string line, word;\n",
        "  \n",
        "  fstream file (fname, ios::in);\n",
        "  if(file.is_open())\n",
        "  {\n",
        "  while(getline(file, line))\n",
        "  {\n",
        "  row.clear();\n",
        "  \n",
        "  stringstream str(line);\n",
        "  \n",
        "  while(getline(str, word, ','))\n",
        "  row.push_back(word);\n",
        "  content.push_back(row);\n",
        "  }\n",
        "  }\n",
        "  else\n",
        "  cout<<\"Could not open the file\\n\";\n",
        "\n",
        "  // creating x, y, z arrays in Shared Memorty containing random values between 0 and 1.0\n",
        "  float *x, *d_x, *y, *d_y, *z, *d_z;\n",
        "  x = new float[N];\n",
        "  y = new float[N];\n",
        "  z = new float[N];\n",
        "\n",
        "  float *hres, *d_hres, *hprevious, *d_hprevious;\n",
        "  hres = new float[N];\n",
        "  hprevious = new float[N];\n",
        "\n",
        "  cudaMalloc(&d_x, N*sizeof(float));\n",
        "  cudaMalloc(&d_y, N*sizeof(float));\n",
        "  cudaMalloc(&d_z, N*sizeof(float));\n",
        "\n",
        "  cudaMalloc(&d_hres, N*sizeof(float));\n",
        "  cudaMalloc(&d_hprevious, N*sizeof(float));\n",
        "\n",
        "  // 0  1  2  3   4   5    6   7  8  9  10\n",
        "  // x, y, z, vx, vy, vz, rho, P, c, h, m.\n",
        "\n",
        "  // Initialize x, y, and z on the Host.\n",
        "  for(int i = 0; i < N; i++){\n",
        "    x[i] = stof(content[i][0]);\n",
        "    y[i] = stof(content[i][1]);\n",
        "    z[i] = stof(content[i][2]);\n",
        "  }\n",
        "\n",
        "  // Initialize hres and hprevious on the Host\n",
        "  for(int i = 0; i < N; i++){\n",
        "    hres[i] = 10.1f; // 100.0 is just a place holder!\n",
        "    hprevious[i] = stof(content[i][9]);;\n",
        "  }\n",
        "\n",
        "  // Copy from Host to Device.\n",
        "  cudaMemcpy(d_x, x, N*sizeof(float), cudaMemcpyHostToDevice);\n",
        "  cudaMemcpy(d_y, y, N*sizeof(float), cudaMemcpyHostToDevice);\n",
        "  cudaMemcpy(d_z, z, N*sizeof(float), cudaMemcpyHostToDevice);\n",
        "\n",
        "  cudaMemcpy(d_hres, hres, N*sizeof(float), cudaMemcpyHostToDevice);\n",
        "  cudaMemcpy(d_hprevious, hprevious, N*sizeof(float), cudaMemcpyHostToDevice);\n",
        "\n",
        "\n",
        "  // Launching the kernel on GPU\n",
        "  int blockSize = 256; // number of threads in a block\n",
        "  int gridSize = (N + blockSize - 1) / blockSize; // Number of blocks in a grid\n",
        "\n",
        "  smoothing_h<<<gridSize, blockSize>>>(d_x, d_y, d_z, d_hres, d_hprevious,\n",
        "                                       N, Ndown, Nup, coeff);\n",
        "\n",
        "  // Wait for the GPU to finish before accessing the Host\n",
        "  cudaDeviceSynchronize();\n",
        "\n",
        "  cudaMemcpy(hres, d_hres, N*sizeof(float), cudaMemcpyDeviceToHost);\n",
        "\n",
        "  // visual inspection\n",
        "  for(int i = N-10; i < N; i++){\n",
        "    cout << hprevious[i] << \"  \" << hres[i] << endl;\n",
        "  }\n",
        "\n",
        "  // Free memory\n",
        "  cudaFree(d_x);\n",
        "  cudaFree(d_y);\n",
        "  cudaFree(d_z);\n",
        "  cudaFree(d_hres);\n",
        "  cudaFree(d_hprevious);\n",
        "\n",
        "  delete[] x;\n",
        "  delete[] y;\n",
        "  delete[] z;\n",
        "  delete[] hres;\n",
        "  delete[] hprevious;\n",
        "\n",
        "}"
      ]
    },
    {
      "cell_type": "code",
      "source": [
        "%%shell\n",
        "nvcc test.cu -o test"
      ],
      "metadata": {
        "colab": {
          "base_uri": "https://localhost:8080/"
        },
        "id": "DqvlSAE6JUaU",
        "outputId": "f07feb25-ec49-458d-fec5-842ea24c4593"
      },
      "execution_count": 15,
      "outputs": [
        {
          "output_type": "execute_result",
          "data": {
            "text/plain": []
          },
          "metadata": {},
          "execution_count": 15
        }
      ]
    },
    {
      "cell_type": "code",
      "source": [
        "%%shell\n",
        "./test"
      ],
      "metadata": {
        "colab": {
          "base_uri": "https://localhost:8080/"
        },
        "id": "OCrD1xbuJYkC",
        "outputId": "2b1c24be-7042-4176-b1ab-8114c2171d92"
      },
      "execution_count": 16,
      "outputs": [
        {
          "output_type": "stream",
          "name": "stdout",
          "text": [
            "0.0491951  0.0491951\n",
            "0.0541674  0.0541674\n",
            "0.0506397  0.0506397\n",
            "0.0476966  0.0476966\n",
            "0.0563585  0.0563585\n",
            "0.0607407  0.0607407\n",
            "0.0579519  0.0579519\n",
            "0.0439055  0.0439055\n",
            "0.0553372  0.0553372\n",
            "0.0540047  0.0540047\n"
          ]
        },
        {
          "output_type": "execute_result",
          "data": {
            "text/plain": []
          },
          "metadata": {},
          "execution_count": 16
        }
      ]
    },
    {
      "cell_type": "code",
      "source": [
        "%%shell\n",
        "nvprof ./test"
      ],
      "metadata": {
        "colab": {
          "base_uri": "https://localhost:8080/"
        },
        "id": "PKgyW7ZFJns_",
        "outputId": "bd143594-a3d5-4d0d-b6ef-e8a4b7efcf83"
      },
      "execution_count": 17,
      "outputs": [
        {
          "output_type": "stream",
          "name": "stdout",
          "text": [
            "==395== NVPROF is profiling process 395, command: ./test\n",
            "0.0491951  0.0491951\n",
            "0.0541674  0.0541674\n",
            "0.0506397  0.0506397\n",
            "0.0476966  0.0476966\n",
            "0.0563585  0.0563585\n",
            "0.0607407  0.0607407\n",
            "0.0579519  0.0579519\n",
            "0.0439055  0.0439055\n",
            "0.0553372  0.0553372\n",
            "0.0540047  0.0540047\n",
            "==395== Profiling application: ./test\n",
            "==395== Profiling result:\n",
            "            Type  Time(%)      Time     Calls       Avg       Min       Max  Name\n",
            " GPU activities:   99.87%  205.60ms         1  205.60ms  205.60ms  205.60ms  smoothing_h(float*, float*, float*, float*, float*, int, int, int, float)\n",
            "                    0.11%  226.68us         5  45.336us  44.831us  45.920us  [CUDA memcpy HtoD]\n",
            "                    0.02%  42.015us         1  42.015us  42.015us  42.015us  [CUDA memcpy DtoH]\n",
            "      API calls:   58.69%  294.83ms         5  58.966ms  3.0670us  294.73ms  cudaMalloc\n",
            "                   40.93%  205.63ms         1  205.63ms  205.63ms  205.63ms  cudaDeviceSynchronize\n",
            "                    0.20%  1.0046ms         6  167.43us  143.49us  200.65us  cudaMemcpy\n",
            "                    0.07%  342.28us         1  342.28us  342.28us  342.28us  cuDeviceTotalMem\n",
            "                    0.06%  289.69us         5  57.937us  4.6200us  143.51us  cudaFree\n",
            "                    0.03%  173.34us       101  1.7160us     134ns  67.260us  cuDeviceGetAttribute\n",
            "                    0.01%  35.967us         1  35.967us  35.967us  35.967us  cudaLaunchKernel\n",
            "                    0.01%  27.167us         1  27.167us  27.167us  27.167us  cuDeviceGetName\n",
            "                    0.00%  5.8080us         1  5.8080us  5.8080us  5.8080us  cuDeviceGetPCIBusId\n",
            "                    0.00%  1.3310us         3     443ns     262ns     721ns  cuDeviceGetCount\n",
            "                    0.00%  1.1850us         2     592ns     170ns  1.0150us  cuDeviceGet\n",
            "                    0.00%     262ns         1     262ns     262ns     262ns  cuDeviceGetUuid\n"
          ]
        },
        {
          "output_type": "execute_result",
          "data": {
            "text/plain": []
          },
          "metadata": {},
          "execution_count": 17
        }
      ]
    },
    {
      "cell_type": "code",
      "source": [],
      "metadata": {
        "id": "-1tHNRI0LNIs"
      },
      "execution_count": null,
      "outputs": []
    }
  ]
}