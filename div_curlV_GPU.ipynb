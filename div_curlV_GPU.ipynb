{
  "nbformat": 4,
  "nbformat_minor": 0,
  "metadata": {
    "colab": {
      "provenance": [],
      "include_colab_link": true
    },
    "kernelspec": {
      "name": "python3",
      "display_name": "Python 3"
    },
    "language_info": {
      "name": "python"
    },
    "gpuClass": "standard",
    "accelerator": "GPU"
  },
  "cells": [
    {
      "cell_type": "markdown",
      "metadata": {
        "id": "view-in-github",
        "colab_type": "text"
      },
      "source": [
        "<a href=\"https://colab.research.google.com/github/hfathie/hfvSPH_on_GPU/blob/main/div_curlV_GPU.ipynb\" target=\"_parent\"><img src=\"https://colab.research.google.com/assets/colab-badge.svg\" alt=\"Open In Colab\"/></a>"
      ]
    },
    {
      "cell_type": "code",
      "execution_count": 9,
      "metadata": {
        "colab": {
          "base_uri": "https://localhost:8080/"
        },
        "id": "m6d2JhKoxItI",
        "outputId": "e45042ff-3e42-4d33-d5b6-2b888449cb30"
      },
      "outputs": [
        {
          "output_type": "stream",
          "name": "stdout",
          "text": [
            "Overwriting test.cu\n"
          ]
        }
      ],
      "source": [
        "%%writefile test.cu\n",
        "#include <iostream> // include iostream, fstream, cmath, string, vector, sstream.\n",
        "#include <fstream>\n",
        "#include <cmath>\n",
        "#include <string>\n",
        "#include <vector>\n",
        "#include <sstream>\n",
        "#include \"myCppSPHLibs.h\"\n",
        "using namespace std;\n",
        "\n",
        "const int N = 131504;\n",
        "const float my_pi = 3.141592f;\n",
        "\n",
        "int main(){\n",
        "\n",
        "  // Reading Hydra file.\n",
        "  string fname = \"Hydra_130k.csv\";\n",
        "\n",
        "  vector<vector<string>> content;\n",
        "  vector<string> row;\n",
        "  string line, word;\n",
        "  \n",
        "  fstream file (fname, ios::in);\n",
        "  if(file.is_open())\n",
        "  {\n",
        "  while(getline(file, line))\n",
        "  {\n",
        "  row.clear();\n",
        "  \n",
        "  stringstream str(line);\n",
        "  \n",
        "  while(getline(str, word, ','))\n",
        "  row.push_back(word);\n",
        "  content.push_back(row);\n",
        "  }\n",
        "  }\n",
        "  else\n",
        "  cout<<\"Could not open the file\\n\";\n",
        "\n",
        "  float *x,*y,*z, *vx,*vy,*vz, *rho, *P, *c, *h, *mass, *divV, *curlV;\n",
        "  float *d_x,*d_y,*d_z, *d_vx,*d_vy,*d_vz, *d_rho, *d_P, *d_c, *d_h, *d_mass;\n",
        "  float *d_divV, *d_curlV;\n",
        "\n",
        "  x = new float[N];\n",
        "  y = new float[N];\n",
        "  z = new float[N];\n",
        "\n",
        "  vx = new float[N];\n",
        "  vy = new float[N];\n",
        "  vz = new float[N];\n",
        "\n",
        "  rho = new float[N];\n",
        "  P = new float[N];\n",
        "  c = new float[N];\n",
        "  h = new float[N];\n",
        "  mass = new float[N];\n",
        "  divV = new float[N];\n",
        "  curlV = new float[N];\n",
        "\n",
        "  // 0  1  2  3   4   5    6   7  8  9  10\n",
        "  // x, y, z, vx, vy, vz, rho, P, c, h, m.\n",
        "\n",
        "  for(int i=0; i<N; i++){\n",
        "\n",
        "    x[i] = stof(content[i][0]);\n",
        "    y[i] = stof(content[i][1]);\n",
        "    z[i] = stof(content[i][2]);\n",
        "\n",
        "    vx[i] = stof(content[i][3]);\n",
        "    vy[i] = stof(content[i][4]);\n",
        "    vz[i] = stof(content[i][5]);\n",
        "\n",
        "    rho[i] = stof(content[i][6]);\n",
        "    P[i] = stof(content[i][7]);\n",
        "    c[i] = stof(content[i][8]);\n",
        "    h[i] = stof(content[i][9]);\n",
        "    mass[i] = stof(content[i][10]);\n",
        "\n",
        "    divV[i] = 110.0f;\n",
        "    curlV[i] = 110.0f;\n",
        "  }\n",
        "\n",
        "  cudaMalloc(&d_x, N*sizeof(float));\n",
        "  cudaMalloc(&d_y, N*sizeof(float));\n",
        "  cudaMalloc(&d_z, N*sizeof(float));\n",
        "\n",
        "  cudaMalloc(&d_vx, N*sizeof(float));\n",
        "  cudaMalloc(&d_vy, N*sizeof(float));\n",
        "  cudaMalloc(&d_vz, N*sizeof(float));\n",
        "\n",
        "  cudaMalloc(&d_rho, N*sizeof(float));\n",
        "  cudaMalloc(&d_P, N*sizeof(float));\n",
        "  cudaMalloc(&d_c, N*sizeof(float));\n",
        "  cudaMalloc(&d_h, N*sizeof(float));\n",
        "  cudaMalloc(&d_mass, N*sizeof(float));\n",
        "  cudaMalloc(&d_divV, N*sizeof(float));\n",
        "  cudaMalloc(&d_curlV, N*sizeof(float));\n",
        "\n",
        "  // Copy from Host to Device.\n",
        "  cudaMemcpy(d_x, x, N*sizeof(float), cudaMemcpyHostToDevice);\n",
        "  cudaMemcpy(d_y, y, N*sizeof(float), cudaMemcpyHostToDevice);\n",
        "  cudaMemcpy(d_z, z, N*sizeof(float), cudaMemcpyHostToDevice);\n",
        "\n",
        "  cudaMemcpy(d_vx, vx, N*sizeof(float), cudaMemcpyHostToDevice);\n",
        "  cudaMemcpy(d_vy, vy, N*sizeof(float), cudaMemcpyHostToDevice);\n",
        "  cudaMemcpy(d_vz, vz, N*sizeof(float), cudaMemcpyHostToDevice);\n",
        "\n",
        "  cudaMemcpy(d_rho, rho, N*sizeof(float), cudaMemcpyHostToDevice);\n",
        "  cudaMemcpy(d_P, P, N*sizeof(float), cudaMemcpyHostToDevice);\n",
        "  cudaMemcpy(d_c, c, N*sizeof(float), cudaMemcpyHostToDevice);\n",
        "  cudaMemcpy(d_h, h, N*sizeof(float), cudaMemcpyHostToDevice);\n",
        "  cudaMemcpy(d_mass, mass, N*sizeof(float), cudaMemcpyHostToDevice);\n",
        "  cudaMemcpy(d_divV, divV, N*sizeof(float), cudaMemcpyHostToDevice);\n",
        "  cudaMemcpy(d_curlV, curlV, N*sizeof(float), cudaMemcpyHostToDevice);\n",
        "\n",
        "\n",
        "  // Launching the kernel on GPU\n",
        "  int blockSize = 256; // number of threads in a block\n",
        "  int gridSize = (N + blockSize - 1) / blockSize; // Number of blocks in a grid\n",
        "\n",
        "  div_curlVel<<<gridSize, blockSize>>>(d_divV, d_curlV, d_x, d_y, d_z, d_vx, d_vy, d_vz,\n",
        "                                       d_rho, d_mass, d_h, my_pi, N);\n",
        "\n",
        "  // Wait for the GPU to finish before accessing the Host\n",
        "  cudaDeviceSynchronize();\n",
        "\n",
        "  // Copy from Device to Host.\n",
        "  cudaMemcpy(divV, d_divV, N*sizeof(float), cudaMemcpyDeviceToHost);\n",
        "  cudaMemcpy(curlV, d_curlV, N*sizeof(float), cudaMemcpyDeviceToHost);\n",
        "\n",
        "  // visual check.\n",
        "  for(int i = N-10; i < N; i++){\n",
        "    cout << divV[i] << \" \" << curlV[i] << endl;\n",
        "  }\n",
        "\n",
        "  // Free memory.\n",
        "  cudaFree(d_x);\n",
        "  cudaFree(d_y);\n",
        "  cudaFree(d_z);\n",
        "\n",
        "  cudaFree(d_vx);\n",
        "  cudaFree(d_vy);\n",
        "  cudaFree(d_vz);\n",
        "\n",
        "  cudaFree(d_rho);\n",
        "  cudaFree(d_P);\n",
        "  cudaFree(d_c);\n",
        "  cudaFree(d_h);\n",
        "  cudaFree(d_mass);\n",
        "  cudaFree(d_divV);\n",
        "  cudaFree(d_curlV);\n",
        "\n",
        "  delete[] x;\n",
        "  delete[] y;\n",
        "  delete[] z;\n",
        "\n",
        "  delete[] vx;\n",
        "  delete[] vy;\n",
        "  delete[] vz;\n",
        "\n",
        "  delete[] rho;\n",
        "  delete[] P;\n",
        "  delete[] c;\n",
        "  delete[] h;\n",
        "  delete[] mass;\n",
        "  delete[] divV;\n",
        "  delete[] curlV;\n",
        "\n",
        "}"
      ]
    },
    {
      "cell_type": "code",
      "source": [
        "%%shell\n",
        "nvcc test.cu -o test"
      ],
      "metadata": {
        "colab": {
          "base_uri": "https://localhost:8080/"
        },
        "id": "lPXXF6Qi31Tw",
        "outputId": "db876397-c199-4455-f83e-15b7687b4576"
      },
      "execution_count": 10,
      "outputs": [
        {
          "output_type": "execute_result",
          "data": {
            "text/plain": []
          },
          "metadata": {},
          "execution_count": 10
        }
      ]
    },
    {
      "cell_type": "code",
      "source": [
        "%%shell\n",
        "./test"
      ],
      "metadata": {
        "colab": {
          "base_uri": "https://localhost:8080/"
        },
        "id": "PaCmNUyd35s4",
        "outputId": "8c42a5ad-d10b-45dd-9fc7-718a61472b8f"
      },
      "execution_count": 11,
      "outputs": [
        {
          "output_type": "stream",
          "name": "stdout",
          "text": [
            "0.949959 0.127185\n",
            "0.626051 0.0280715\n",
            "0.662572 0.274751\n",
            "0.577422 0.346793\n",
            "0.716749 0.0292192\n",
            "0.187944 0.0923823\n",
            "0.557782 0.14172\n",
            "1.06012 0.0902458\n",
            "0.101683 0.0994686\n",
            "0.0386354 0.0324852\n"
          ]
        },
        {
          "output_type": "execute_result",
          "data": {
            "text/plain": []
          },
          "metadata": {},
          "execution_count": 11
        }
      ]
    },
    {
      "cell_type": "code",
      "source": [
        "%%shell\n",
        "nvprof ./test"
      ],
      "metadata": {
        "colab": {
          "base_uri": "https://localhost:8080/"
        },
        "id": "OSyCkdYj47xA",
        "outputId": "947d8e67-df31-4f9d-beb5-c91c7c83e13a"
      },
      "execution_count": 12,
      "outputs": [
        {
          "output_type": "stream",
          "name": "stdout",
          "text": [
            "==476== NVPROF is profiling process 476, command: ./test\n",
            "0.949959 0.127185\n",
            "0.626051 0.0280715\n",
            "0.662572 0.274751\n",
            "0.577422 0.346793\n",
            "0.716749 0.0292192\n",
            "0.187944 0.0923823\n",
            "0.557782 0.14172\n",
            "1.06012 0.0902458\n",
            "0.101683 0.0994686\n",
            "0.0386354 0.0324852\n",
            "==476== Profiling application: ./test\n",
            "==476== Profiling result:\n",
            "            Type  Time(%)      Time     Calls       Avg       Min       Max  Name\n",
            " GPU activities:   99.81%  346.97ms         1  346.97ms  346.97ms  346.97ms  div_curlVel(float*, float*, float*, float*, float*, float*, float*, float*, float*, float*, float*, float, int)\n",
            "                    0.17%  590.58us        13  45.429us  44.991us  46.911us  [CUDA memcpy HtoD]\n",
            "                    0.02%  83.486us         2  41.743us  41.727us  41.759us  [CUDA memcpy DtoH]\n",
            "      API calls:   59.10%  347.01ms         1  347.01ms  347.01ms  347.01ms  cudaDeviceSynchronize\n",
            "                   40.26%  236.39ms        13  18.184ms  2.4820us  236.00ms  cudaMalloc\n",
            "                    0.42%  2.4695ms        15  164.63us  132.62us  202.21us  cudaMemcpy\n",
            "                    0.10%  569.02us        13  43.771us  2.6500us  154.19us  cudaFree\n",
            "                    0.07%  398.61us         1  398.61us  398.61us  398.61us  cuDeviceTotalMem\n",
            "                    0.03%  203.12us       101  2.0110us     144ns  92.317us  cuDeviceGetAttribute\n",
            "                    0.01%  31.481us         1  31.481us  31.481us  31.481us  cuDeviceGetName\n",
            "                    0.00%  27.482us         1  27.482us  27.482us  27.482us  cudaLaunchKernel\n",
            "                    0.00%  5.4430us         1  5.4430us  5.4430us  5.4430us  cuDeviceGetPCIBusId\n",
            "                    0.00%  1.3030us         3     434ns     177ns     768ns  cuDeviceGetCount\n",
            "                    0.00%  1.1820us         2     591ns     194ns     988ns  cuDeviceGet\n",
            "                    0.00%     282ns         1     282ns     282ns     282ns  cuDeviceGetUuid\n"
          ]
        },
        {
          "output_type": "execute_result",
          "data": {
            "text/plain": []
          },
          "metadata": {},
          "execution_count": 12
        }
      ]
    },
    {
      "cell_type": "code",
      "source": [],
      "metadata": {
        "id": "lL2APsAiCBw5"
      },
      "execution_count": null,
      "outputs": []
    }
  ]
}