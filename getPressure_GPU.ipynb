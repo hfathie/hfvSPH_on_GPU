{
  "nbformat": 4,
  "nbformat_minor": 0,
  "metadata": {
    "colab": {
      "provenance": [],
      "authorship_tag": "ABX9TyMLwemUnqwXx5078udGx4DE",
      "include_colab_link": true
    },
    "kernelspec": {
      "name": "python3",
      "display_name": "Python 3"
    },
    "language_info": {
      "name": "python"
    },
    "accelerator": "GPU",
    "gpuClass": "standard"
  },
  "cells": [
    {
      "cell_type": "markdown",
      "metadata": {
        "id": "view-in-github",
        "colab_type": "text"
      },
      "source": [
        "<a href=\"https://colab.research.google.com/github/hfathie/hfvSPH_on_GPU/blob/main/getPressure_GPU.ipynb\" target=\"_parent\"><img src=\"https://colab.research.google.com/assets/colab-badge.svg\" alt=\"Open In Colab\"/></a>"
      ]
    },
    {
      "cell_type": "code",
      "execution_count": 7,
      "metadata": {
        "colab": {
          "base_uri": "https://localhost:8080/"
        },
        "id": "UO-mejUkHa06",
        "outputId": "90c4b681-6260-407a-f30b-e7468422b8f4"
      },
      "outputs": [
        {
          "output_type": "stream",
          "name": "stdout",
          "text": [
            "Overwriting test.cu\n"
          ]
        }
      ],
      "source": [
        "%%writefile test.cu\n",
        "#include <iostream>\n",
        "#include <fstream>\n",
        "#include <cmath>\n",
        "#include <string>\n",
        "#include <vector>\n",
        "#include <sstream>\n",
        "#include \"myCppSPHLibs.h\"\n",
        "using namespace std;\n",
        "\n",
        "const int N = 131504;\n",
        "\n",
        "float mH = 1.6726e-24; // gram\n",
        "float kB = 1.3807e-16; // cm2 g s-2 K-1\n",
        "float mH2 = 2.7f * mH; \n",
        "\n",
        "float M_sun = 1.98992e+33; // gram\n",
        "float grav_const_in_cgs = 6.67259e-8;// cm3 g-1 s-2\n",
        "\n",
        "float G = 1.0f;\n",
        "\n",
        "float gammah = 5.0f/3.0f;\n",
        "\n",
        "float UnitRadius_in_pc = 2.0f;\n",
        "float UnitRadius_in_cm = 3.086e18 * UnitRadius_in_pc;\n",
        "\n",
        "float UnitMass_in_g = 10.0f * M_sun;\n",
        "float UnitDensity_in_cgs = UnitMass_in_g / UnitRadius_in_cm/UnitRadius_in_cm/UnitRadius_in_cm;\n",
        "float Unit_u_in_cgs = grav_const_in_cgs * UnitMass_in_g / UnitRadius_in_cm;\n",
        "float Unit_P_in_cgs = UnitDensity_in_cgs * Unit_u_in_cgs;\n",
        "\n",
        "\n",
        "int main(){\n",
        "\n",
        "  // Reading Hydra file.\n",
        "  string fname = \"Hydra_130k.csv\";\n",
        "\n",
        "  vector<vector<string>> content;\n",
        "  vector<string> row;\n",
        "  string line, word;\n",
        "  \n",
        "  fstream file (fname, ios::in);\n",
        "  if(file.is_open())\n",
        "  {\n",
        "  while(getline(file, line))\n",
        "  {\n",
        "  row.clear();\n",
        "  \n",
        "  stringstream str(line);\n",
        "  \n",
        "  while(getline(str, word, ','))\n",
        "  row.push_back(word);\n",
        "  content.push_back(row);\n",
        "  }\n",
        "  }\n",
        "  else\n",
        "  cout<<\"Could not open the file\\n\";\n",
        "\n",
        "  float *P, *d_P, *rho, *d_rho, T_cld, T_ps, T_0, kBmH2;\n",
        "\n",
        "  T_cld = 10.0f;\n",
        "  T_ps = 10.0f;\n",
        "  T_0 = 10.0f;\n",
        "\n",
        "  kBmH2 = kB/mH2;\n",
        "\n",
        "  rho = new float[N];\n",
        "  P = new float[N];\n",
        "\n",
        "  // 0  1  2  3   4   5    6   7  8  9  10\n",
        "  // x, y, z, vx, vy, vz, rho, P, c, h, m.\n",
        "\n",
        "  for(int i=0; i<N; i++){\n",
        "\n",
        "    rho[i] = stof(content[i][6]);\n",
        "    P[i] = 0.0f;\n",
        "  }\n",
        "\n",
        "  cudaMalloc(&d_rho, N*sizeof(float));\n",
        "  cudaMalloc(&d_P, N*sizeof(float));\n",
        "\n",
        "  // Copy from Host to Device.\n",
        "  cudaMemcpy(d_rho, rho, N*sizeof(float), cudaMemcpyHostToDevice);\n",
        "  cudaMemcpy(d_P, P, N*sizeof(float), cudaMemcpyHostToDevice);\n",
        "\n",
        "  // Launching the kernel on GPU\n",
        "  int blockSize = 256; // number of threads in a block\n",
        "  int gridSize = (N + blockSize - 1) / blockSize; // Number of blocks in a grid\n",
        "\n",
        "  getPressure<<<gridSize, blockSize>>>(d_P, d_rho, T_cld,\n",
        "                                       T_ps, T_0, kBmH2,\n",
        "                                       UnitDensity_in_cgs,\n",
        "                                       Unit_P_in_cgs,\n",
        "                                       gammah, N);\n",
        "\n",
        "  // Wait for the GPU to finish before accessing the Host\n",
        "  cudaDeviceSynchronize();\n",
        "\n",
        "  // Copy from Device to Host.\n",
        "  cudaMemcpy(P, d_P, N*sizeof(float), cudaMemcpyDeviceToHost);\n",
        "\n",
        "  // visual inspection\n",
        "  for(int i = 0; i < 10; i++){\n",
        "    cout << P[i] << endl;\n",
        "  }\n",
        "\n",
        "\n",
        "}"
      ]
    },
    {
      "cell_type": "code",
      "source": [
        "%%shell\n",
        "nvcc test.cu -o test"
      ],
      "metadata": {
        "colab": {
          "base_uri": "https://localhost:8080/"
        },
        "id": "-iO5LcechfkI",
        "outputId": "e69c1e88-c9bd-4980-e10a-d03dd74343b0"
      },
      "execution_count": 8,
      "outputs": [
        {
          "output_type": "execute_result",
          "data": {
            "text/plain": []
          },
          "metadata": {},
          "execution_count": 8
        }
      ]
    },
    {
      "cell_type": "code",
      "source": [
        "%%shell\n",
        "./test"
      ],
      "metadata": {
        "colab": {
          "base_uri": "https://localhost:8080/"
        },
        "id": "oZt9z0BRibNL",
        "outputId": "6f0cae2f-7ea9-47d3-88c5-bc4a5e4e680e"
      },
      "execution_count": 9,
      "outputs": [
        {
          "output_type": "stream",
          "name": "stdout",
          "text": [
            "0.50391\n",
            "0.351792\n",
            "0.577481\n",
            "0.210833\n",
            "0.707346\n",
            "0.4072\n",
            "0.397506\n",
            "0.598539\n",
            "0.465576\n",
            "0.351517\n"
          ]
        },
        {
          "output_type": "execute_result",
          "data": {
            "text/plain": []
          },
          "metadata": {},
          "execution_count": 9
        }
      ]
    },
    {
      "cell_type": "code",
      "source": [
        "%%shell\n",
        "nvprof ./test"
      ],
      "metadata": {
        "colab": {
          "base_uri": "https://localhost:8080/"
        },
        "id": "rqc7IRsVkt-_",
        "outputId": "9abf02c3-2c34-4387-accb-46173f633202"
      },
      "execution_count": 10,
      "outputs": [
        {
          "output_type": "stream",
          "name": "stdout",
          "text": [
            "==275== NVPROF is profiling process 275, command: ./test\n",
            "0.50391\n",
            "0.351792\n",
            "0.577481\n",
            "0.210833\n",
            "0.707346\n",
            "0.4072\n",
            "0.397506\n",
            "0.598539\n",
            "0.465576\n",
            "0.351517\n",
            "==275== Profiling application: ./test\n",
            "==275== Profiling result:\n",
            "            Type  Time(%)      Time     Calls       Avg       Min       Max  Name\n",
            " GPU activities:   56.83%  93.279us         2  46.639us  45.439us  47.840us  [CUDA memcpy HtoD]\n",
            "                   25.74%  42.239us         1  42.239us  42.239us  42.239us  [CUDA memcpy DtoH]\n",
            "                   17.43%  28.607us         1  28.607us  28.607us  28.607us  getPressure(float*, float*, float, float, float, float, float, float, float, int)\n",
            "      API calls:   99.64%  310.43ms         2  155.21ms  4.8140us  310.42ms  cudaMalloc\n",
            "                    0.14%  430.52us         3  143.51us  129.11us  160.13us  cudaMemcpy\n",
            "                    0.13%  396.81us         1  396.81us  396.81us  396.81us  cuDeviceTotalMem\n",
            "                    0.05%  164.33us       101  1.6270us     127ns  69.135us  cuDeviceGetAttribute\n",
            "                    0.02%  62.168us         1  62.168us  62.168us  62.168us  cudaDeviceSynchronize\n",
            "                    0.01%  28.023us         1  28.023us  28.023us  28.023us  cuDeviceGetName\n",
            "                    0.01%  25.402us         1  25.402us  25.402us  25.402us  cudaLaunchKernel\n",
            "                    0.00%  6.0230us         1  6.0230us  6.0230us  6.0230us  cuDeviceGetPCIBusId\n",
            "                    0.00%  1.7530us         2     876ns     343ns  1.4100us  cuDeviceGet\n",
            "                    0.00%  1.6780us         3     559ns     170ns  1.1420us  cuDeviceGetCount\n",
            "                    0.00%     303ns         1     303ns     303ns     303ns  cuDeviceGetUuid\n"
          ]
        },
        {
          "output_type": "execute_result",
          "data": {
            "text/plain": []
          },
          "metadata": {},
          "execution_count": 10
        }
      ]
    },
    {
      "cell_type": "code",
      "source": [],
      "metadata": {
        "id": "u12s4rmEl8Ce"
      },
      "execution_count": null,
      "outputs": []
    }
  ]
}