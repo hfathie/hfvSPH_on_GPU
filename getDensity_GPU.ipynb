{
  "nbformat": 4,
  "nbformat_minor": 0,
  "metadata": {
    "colab": {
      "provenance": [],
      "authorship_tag": "ABX9TyMIg9wlH+FLTrCWDMSS64mr",
      "include_colab_link": true
    },
    "kernelspec": {
      "name": "python3",
      "display_name": "Python 3"
    },
    "language_info": {
      "name": "python"
    },
    "accelerator": "GPU",
    "gpuClass": "standard"
  },
  "cells": [
    {
      "cell_type": "markdown",
      "metadata": {
        "id": "view-in-github",
        "colab_type": "text"
      },
      "source": [
        "<a href=\"https://colab.research.google.com/github/hfathie/hfvSPH_on_GPU/blob/main/getDensity_GPU.ipynb\" target=\"_parent\"><img src=\"https://colab.research.google.com/assets/colab-badge.svg\" alt=\"Open In Colab\"/></a>"
      ]
    },
    {
      "cell_type": "code",
      "execution_count": 4,
      "metadata": {
        "colab": {
          "base_uri": "https://localhost:8080/"
        },
        "id": "4tbhZJTVDePZ",
        "outputId": "6cd9e3ff-a44e-4140-8b75-62b47804349a"
      },
      "outputs": [
        {
          "output_type": "stream",
          "name": "stdout",
          "text": [
            "Overwriting test.cu\n"
          ]
        }
      ],
      "source": [
        "%%writefile test.cu\n",
        "#include <iostream>\n",
        "#include <fstream>\n",
        "#include <cmath>\n",
        "#include <string>\n",
        "#include <vector>\n",
        "#include <sstream>\n",
        "#include \"myCppSPHLibs.h\"\n",
        "using namespace std;\n",
        "\n",
        "const int N = 131504;\n",
        "const float my_pi = 3.141592f;\n",
        "\n",
        "\n",
        "int main(){\n",
        "\n",
        "  // Reading Hydra file.\n",
        "  string fname = \"Hydra_130k.csv\";\n",
        "\n",
        "  vector<vector<string>> content;\n",
        "  vector<string> row;\n",
        "  string line, word;\n",
        "  \n",
        "  fstream file (fname, ios::in);\n",
        "  if(file.is_open())\n",
        "  {\n",
        "  while(getline(file, line))\n",
        "  {\n",
        "  row.clear();\n",
        "  \n",
        "  stringstream str(line);\n",
        "  \n",
        "  while(getline(str, word, ','))\n",
        "  row.push_back(word);\n",
        "  content.push_back(row);\n",
        "  }\n",
        "  }\n",
        "  else\n",
        "  cout<<\"Could not open the file\\n\";\n",
        "\n",
        "  float *x,*y,*z, *h, *mass, *rho;\n",
        "  float *d_x,*d_y,*d_z, *d_h, *d_mass, *d_rho;\n",
        "\n",
        "  x = new float[N];\n",
        "  y = new float[N];\n",
        "  z = new float[N];\n",
        "\n",
        "  rho = new float[N];\n",
        "  h = new float[N];\n",
        "  mass = new float[N];\n",
        "\n",
        "  // 0  1  2  3   4   5    6   7  8  9  10\n",
        "  // x, y, z, vx, vy, vz, rho, P, c, h, m.\n",
        "\n",
        "  for(int i=0; i<N; i++){\n",
        "\n",
        "    x[i] = stof(content[i][0]);\n",
        "    y[i] = stof(content[i][1]);\n",
        "    z[i] = stof(content[i][2]);\n",
        "\n",
        "    rho[i] = stof(content[i][6]);\n",
        "    h[i] = stof(content[i][9]);\n",
        "    mass[i] = stof(content[i][10]);\n",
        "  }\n",
        "\n",
        "  cudaMalloc(&d_x, N*sizeof(float));\n",
        "  cudaMalloc(&d_y, N*sizeof(float));\n",
        "  cudaMalloc(&d_z, N*sizeof(float));\n",
        "\n",
        "  cudaMalloc(&d_rho, N*sizeof(float));\n",
        "  cudaMalloc(&d_h, N*sizeof(float));\n",
        "  cudaMalloc(&d_mass, N*sizeof(float));\n",
        "\n",
        "  // Copy from Host to Device.\n",
        "  cudaMemcpy(d_x, x, N*sizeof(float), cudaMemcpyHostToDevice);\n",
        "  cudaMemcpy(d_y, y, N*sizeof(float), cudaMemcpyHostToDevice);\n",
        "  cudaMemcpy(d_z, z, N*sizeof(float), cudaMemcpyHostToDevice);\n",
        "\n",
        "  cudaMemcpy(d_rho, rho, N*sizeof(float), cudaMemcpyHostToDevice);\n",
        "  cudaMemcpy(d_h, h, N*sizeof(float), cudaMemcpyHostToDevice);\n",
        "  cudaMemcpy(d_mass, mass, N*sizeof(float), cudaMemcpyHostToDevice);\n",
        "\n",
        "  // Launching the kernel on GPU\n",
        "  int blockSize = 256; // number of threads in a block\n",
        "  int gridSize = (N + blockSize - 1) / blockSize; // Number of blocks in a grid\n",
        "\n",
        "  getDensity<<<gridSize, blockSize>>>(d_x, d_y, d_z, d_mass,\n",
        "                                      d_rho, d_h, my_pi, N);\n",
        "\n",
        "  // Wait for the GPU to finish before accessing the Host\n",
        "  cudaDeviceSynchronize();\n",
        "\n",
        "\n",
        "  // visual inspection\n",
        "  for(int i = 0; i < 10; i++){\n",
        "    cout << rho[i] << endl;\n",
        "  }\n",
        "\n",
        "  // Free memory.\n",
        "  cudaFree(d_x);\n",
        "  cudaFree(d_y);\n",
        "  cudaFree(d_z);\n",
        "\n",
        "  cudaFree(d_rho);\n",
        "  cudaFree(d_h);\n",
        "  cudaFree(d_mass);\n",
        "\n",
        "  delete[] x;\n",
        "  delete[] y;\n",
        "  delete[] z;\n",
        "\n",
        "  delete[] rho;\n",
        "  delete[] h;\n",
        "  delete[] mass;\n",
        "\n",
        "}"
      ]
    },
    {
      "cell_type": "code",
      "source": [
        "%%shell\n",
        "nvcc test.cu -o test"
      ],
      "metadata": {
        "colab": {
          "base_uri": "https://localhost:8080/"
        },
        "id": "aMvQZSMiEYq2",
        "outputId": "fe919bdc-0073-4dd7-c7d6-cbac65f23018"
      },
      "execution_count": 5,
      "outputs": [
        {
          "output_type": "execute_result",
          "data": {
            "text/plain": []
          },
          "metadata": {},
          "execution_count": 5
        }
      ]
    },
    {
      "cell_type": "code",
      "source": [
        "%%shell\n",
        "./test"
      ],
      "metadata": {
        "colab": {
          "base_uri": "https://localhost:8080/"
        },
        "id": "r7DAvwMHEcIM",
        "outputId": "4297f9fa-1f56-4233-de0d-f0fab7b913fd"
      },
      "execution_count": 6,
      "outputs": [
        {
          "output_type": "stream",
          "name": "stdout",
          "text": [
            "0.35458\n",
            "0.247541\n",
            "0.406348\n",
            "0.148354\n",
            "0.497729\n",
            "0.286529\n",
            "0.279707\n",
            "0.421166\n",
            "0.327605\n",
            "0.247348\n"
          ]
        },
        {
          "output_type": "execute_result",
          "data": {
            "text/plain": []
          },
          "metadata": {},
          "execution_count": 6
        }
      ]
    },
    {
      "cell_type": "code",
      "source": [
        "%%shell\n",
        "nvprof ./test"
      ],
      "metadata": {
        "colab": {
          "base_uri": "https://localhost:8080/"
        },
        "id": "iKWFhJFRFhWE",
        "outputId": "03af5e65-1c23-498f-9ef2-217c79715649"
      },
      "execution_count": 7,
      "outputs": [
        {
          "output_type": "stream",
          "name": "stdout",
          "text": [
            "==306== NVPROF is profiling process 306, command: ./test\n",
            "0.35458\n",
            "0.247541\n",
            "0.406348\n",
            "0.148354\n",
            "0.497729\n",
            "0.286529\n",
            "0.279707\n",
            "0.421166\n",
            "0.327605\n",
            "0.247348\n",
            "==306== Profiling application: ./test\n",
            "==306== Profiling result:\n",
            "            Type  Time(%)      Time     Calls       Avg       Min       Max  Name\n",
            " GPU activities:   99.89%  250.98ms         1  250.98ms  250.98ms  250.98ms  getDensity(float*, float*, float*, float*, float*, float*, float, int)\n",
            "                    0.11%  273.28us         6  45.546us  45.312us  45.887us  [CUDA memcpy HtoD]\n",
            "      API calls:   54.80%  306.53ms         6  51.088ms  3.0380us  306.40ms  cudaMalloc\n",
            "                   44.88%  251.02ms         1  251.02ms  251.02ms  251.02ms  cudaDeviceSynchronize\n",
            "                    0.17%  946.93us         6  157.82us  136.10us  176.49us  cudaMemcpy\n",
            "                    0.07%  378.02us         1  378.02us  378.02us  378.02us  cuDeviceTotalMem\n",
            "                    0.05%  262.34us         6  43.723us  2.8410us  141.85us  cudaFree\n",
            "                    0.03%  161.08us       101  1.5940us     127ns  68.261us  cuDeviceGetAttribute\n",
            "                    0.01%  29.618us         1  29.618us  29.618us  29.618us  cuDeviceGetName\n",
            "                    0.00%  27.461us         1  27.461us  27.461us  27.461us  cudaLaunchKernel\n",
            "                    0.00%  5.6780us         1  5.6780us  5.6780us  5.6780us  cuDeviceGetPCIBusId\n",
            "                    0.00%  1.6180us         2     809ns     257ns  1.3610us  cuDeviceGet\n",
            "                    0.00%  1.3270us         3     442ns     175ns     808ns  cuDeviceGetCount\n",
            "                    0.00%     265ns         1     265ns     265ns     265ns  cuDeviceGetUuid\n"
          ]
        },
        {
          "output_type": "execute_result",
          "data": {
            "text/plain": []
          },
          "metadata": {},
          "execution_count": 7
        }
      ]
    },
    {
      "cell_type": "code",
      "source": [],
      "metadata": {
        "id": "F15JsW-WF386"
      },
      "execution_count": null,
      "outputs": []
    }
  ]
}