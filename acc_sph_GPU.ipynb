{
  "nbformat": 4,
  "nbformat_minor": 0,
  "metadata": {
    "colab": {
      "provenance": [],
      "include_colab_link": true
    },
    "kernelspec": {
      "name": "python3",
      "display_name": "Python 3"
    },
    "language_info": {
      "name": "python"
    },
    "gpuClass": "standard",
    "accelerator": "GPU"
  },
  "cells": [
    {
      "cell_type": "markdown",
      "metadata": {
        "id": "view-in-github",
        "colab_type": "text"
      },
      "source": [
        "<a href=\"https://colab.research.google.com/github/hfathie/hfvSPH_on_GPU/blob/main/acc_sph_GPU.ipynb\" target=\"_parent\"><img src=\"https://colab.research.google.com/assets/colab-badge.svg\" alt=\"Open In Colab\"/></a>"
      ]
    },
    {
      "cell_type": "code",
      "execution_count": 9,
      "metadata": {
        "colab": {
          "base_uri": "https://localhost:8080/"
        },
        "id": "r3rjcVzZEuts",
        "outputId": "93d07934-0f91-4dca-974d-e136ad453fb7"
      },
      "outputs": [
        {
          "output_type": "stream",
          "name": "stdout",
          "text": [
            "Overwriting test.cu\n"
          ]
        }
      ],
      "source": [
        "%%writefile test.cu\n",
        "#include <iostream>  // iostream, fstream, cmath, string, vector, sstream.\n",
        "#include <fstream>\n",
        "#include <cmath>\n",
        "#include <string>\n",
        "#include <vector>\n",
        "#include <sstream>\n",
        "#include \"myCppSPHLibs.h\"\n",
        "using namespace std;\n",
        "\n",
        "const int N = 131504;\n",
        "const float my_pi = 3.141592f;\n",
        "const float visc_alpha = 1.0f;\n",
        "\n",
        "\n",
        "int main(){\n",
        "\n",
        "  // Reading Hydra file.\n",
        "  string fname = \"Hydra_130k.csv\";\n",
        "\n",
        "  vector<vector<string>> content;\n",
        "  vector<string> row;\n",
        "  string line, word;\n",
        "  \n",
        "  fstream file (fname, ios::in);\n",
        "  if(file.is_open())\n",
        "  {\n",
        "  while(getline(file, line))\n",
        "  {\n",
        "  row.clear();\n",
        "  \n",
        "  stringstream str(line);\n",
        "  \n",
        "  while(getline(str, word, ','))\n",
        "  row.push_back(word);\n",
        "  content.push_back(row);\n",
        "  }\n",
        "  }\n",
        "  else\n",
        "  cout<<\"Could not open the file\\n\";\n",
        "\n",
        "  float *x,*y,*z, *vx,*vy,*vz, *rho, *P, *c, *h, *mass, *divV, *curlV;\n",
        "  float *d_x,*d_y,*d_z, *d_vx,*d_vy,*d_vz, *d_rho, *d_P, *d_c, *d_h;\n",
        "  float *d_mass, *d_divV, *d_curlV, *ax, *ay, *az, *d_ax, *d_ay, *d_az;\n",
        "\n",
        "  x = new float[N];\n",
        "  y = new float[N];\n",
        "  z = new float[N];\n",
        "\n",
        "  vx = new float[N];\n",
        "  vy = new float[N];\n",
        "  vz = new float[N];\n",
        "\n",
        "  ax = new float[N];\n",
        "  ay = new float[N];\n",
        "  az = new float[N];\n",
        "\n",
        "  rho = new float[N];\n",
        "  P = new float[N];\n",
        "  c = new float[N];\n",
        "  h = new float[N];\n",
        "  mass = new float[N];\n",
        "  divV = new float[N];\n",
        "  curlV = new float[N];\n",
        "\n",
        "  // 0  1  2  3   4   5    6   7  8  9  10\n",
        "  // x, y, z, vx, vy, vz, rho, P, c, h, m.\n",
        "\n",
        "  for(int i=0; i<N; i++){\n",
        "\n",
        "    x[i] = stof(content[i][0]);\n",
        "    y[i] = stof(content[i][1]);\n",
        "    z[i] = stof(content[i][2]);\n",
        "\n",
        "    vx[i] = stof(content[i][3]);\n",
        "    vy[i] = stof(content[i][4]);\n",
        "    vz[i] = stof(content[i][5]);\n",
        "\n",
        "    rho[i] = stof(content[i][6]);\n",
        "    P[i] = stof(content[i][7]);\n",
        "    c[i] = stof(content[i][8]);\n",
        "    h[i] = stof(content[i][9]);\n",
        "    mass[i] = stof(content[i][10]);\n",
        "\n",
        "    divV[i] = stof(content[i][11]);\n",
        "    curlV[i] = stof(content[i][12]);\n",
        "\n",
        "    ax[i] = 0.0f;\n",
        "    ay[i] = 0.0f;\n",
        "    az[i] = 0.0f;\n",
        "\n",
        "  }\n",
        "\n",
        "  cudaMalloc(&d_x, N*sizeof(float));\n",
        "  cudaMalloc(&d_y, N*sizeof(float));\n",
        "  cudaMalloc(&d_z, N*sizeof(float));\n",
        "\n",
        "  cudaMalloc(&d_vx, N*sizeof(float));\n",
        "  cudaMalloc(&d_vy, N*sizeof(float));\n",
        "  cudaMalloc(&d_vz, N*sizeof(float));\n",
        "\n",
        "  cudaMalloc(&d_ax, N*sizeof(float));\n",
        "  cudaMalloc(&d_ay, N*sizeof(float));\n",
        "  cudaMalloc(&d_az, N*sizeof(float));\n",
        "\n",
        "  cudaMalloc(&d_rho, N*sizeof(float));\n",
        "  cudaMalloc(&d_P, N*sizeof(float));\n",
        "  cudaMalloc(&d_c, N*sizeof(float));\n",
        "  cudaMalloc(&d_h, N*sizeof(float));\n",
        "  cudaMalloc(&d_mass, N*sizeof(float));\n",
        "  cudaMalloc(&d_divV, N*sizeof(float));\n",
        "  cudaMalloc(&d_curlV, N*sizeof(float));\n",
        "\n",
        "  // Copy from Host to Device.\n",
        "  cudaMemcpy(d_x, x, N*sizeof(float), cudaMemcpyHostToDevice);\n",
        "  cudaMemcpy(d_y, y, N*sizeof(float), cudaMemcpyHostToDevice);\n",
        "  cudaMemcpy(d_z, z, N*sizeof(float), cudaMemcpyHostToDevice);\n",
        "\n",
        "  cudaMemcpy(d_vx, vx, N*sizeof(float), cudaMemcpyHostToDevice);\n",
        "  cudaMemcpy(d_vy, vy, N*sizeof(float), cudaMemcpyHostToDevice);\n",
        "  cudaMemcpy(d_vz, vz, N*sizeof(float), cudaMemcpyHostToDevice);\n",
        "\n",
        "  cudaMemcpy(d_ax, ax, N*sizeof(float), cudaMemcpyHostToDevice);\n",
        "  cudaMemcpy(d_ay, ay, N*sizeof(float), cudaMemcpyHostToDevice);\n",
        "  cudaMemcpy(d_az, az, N*sizeof(float), cudaMemcpyHostToDevice);\n",
        "\n",
        "  cudaMemcpy(d_rho, rho, N*sizeof(float), cudaMemcpyHostToDevice);\n",
        "  cudaMemcpy(d_P, P, N*sizeof(float), cudaMemcpyHostToDevice);\n",
        "  cudaMemcpy(d_c, c, N*sizeof(float), cudaMemcpyHostToDevice);\n",
        "  cudaMemcpy(d_h, h, N*sizeof(float), cudaMemcpyHostToDevice);\n",
        "  cudaMemcpy(d_mass, mass, N*sizeof(float), cudaMemcpyHostToDevice);\n",
        "  cudaMemcpy(d_divV, divV, N*sizeof(float), cudaMemcpyHostToDevice);\n",
        "  cudaMemcpy(d_curlV, curlV, N*sizeof(float), cudaMemcpyHostToDevice);\n",
        "\n",
        "  // Launching the kernel on GPU\n",
        "  int blockSize = 256; // number of threads in a block\n",
        "  int gridSize = (N + blockSize - 1) / blockSize; // Number of blocks in a grid\n",
        "\n",
        "  acc_sph<<<gridSize, blockSize>>>(d_x, d_y, d_z, d_vx, d_vy, d_vz, d_h, d_c, d_rho,\n",
        "                                   d_divV, d_curlV, d_mass, d_P, d_ax, d_ay, d_az,\n",
        "                                   my_pi, visc_alpha, N);\n",
        "\n",
        "  // Wait for the GPU to finish before accessing the Host\n",
        "  cudaDeviceSynchronize();\n",
        "\n",
        "  // Copy from Device to Host.\n",
        "  cudaMemcpy(ax, d_ax, N*sizeof(float), cudaMemcpyDeviceToHost);\n",
        "  cudaMemcpy(ay, d_ay, N*sizeof(float), cudaMemcpyDeviceToHost);\n",
        "  cudaMemcpy(az, d_az, N*sizeof(float), cudaMemcpyDeviceToHost);\n",
        "\n",
        "  // visual check.\n",
        "  for(int i = 0; i < 10; i++){\n",
        "    cout << ax[i] << \",\" << ay[i] << \",\" << az[i] << endl;\n",
        "  }\n",
        "\n",
        "  // Free memory.\n",
        "  cudaFree(d_x);\n",
        "  cudaFree(d_y);\n",
        "  cudaFree(d_z);\n",
        "\n",
        "  cudaFree(d_vx);\n",
        "  cudaFree(d_vy);\n",
        "  cudaFree(d_vz);\n",
        "\n",
        "  cudaFree(d_ax);\n",
        "  cudaFree(d_ay);\n",
        "  cudaFree(d_az);\n",
        "\n",
        "  cudaFree(d_rho);\n",
        "  cudaFree(d_P);\n",
        "  cudaFree(d_c);\n",
        "  cudaFree(d_h);\n",
        "  cudaFree(d_mass);\n",
        "  cudaFree(d_divV);\n",
        "  cudaFree(d_curlV);\n",
        "\n",
        "  delete[] x;\n",
        "  delete[] y;\n",
        "  delete[] z;\n",
        "\n",
        "  delete[] vx;\n",
        "  delete[] vy;\n",
        "  delete[] vz;\n",
        "\n",
        "  delete[] ax;\n",
        "  delete[] ay;\n",
        "  delete[] az;\n",
        "\n",
        "  delete[] rho;\n",
        "  delete[] P;\n",
        "  delete[] c;\n",
        "  delete[] h;\n",
        "  delete[] mass;\n",
        "  delete[] divV;\n",
        "  delete[] curlV;\n",
        "\n",
        "}"
      ]
    },
    {
      "cell_type": "code",
      "source": [
        "%%shell\n",
        "nvcc test.cu -o test"
      ],
      "metadata": {
        "colab": {
          "base_uri": "https://localhost:8080/"
        },
        "id": "zKSEqgPgVHLO",
        "outputId": "1f813682-d664-4290-8cf3-80505cf525ad"
      },
      "execution_count": 10,
      "outputs": [
        {
          "output_type": "execute_result",
          "data": {
            "text/plain": []
          },
          "metadata": {},
          "execution_count": 10
        }
      ]
    },
    {
      "cell_type": "code",
      "source": [
        "%%shell\n",
        "./test"
      ],
      "metadata": {
        "colab": {
          "base_uri": "https://localhost:8080/"
        },
        "id": "f73JNmVGVhO9",
        "outputId": "e7b4c34b-d695-476f-a173-98c9240ee547"
      },
      "execution_count": 11,
      "outputs": [
        {
          "output_type": "stream",
          "name": "stdout",
          "text": [
            "0.703798,-3.19147,5.94139\n",
            "8.00734,-1.25612,-12.0063\n",
            "-3.42585,-9.84311,1.03338\n",
            "12.6441,-0.0720719,-0.851646\n",
            "4.04376,5.91137,-11.0488\n",
            "1.46846,5.80696,-4.86355\n",
            "9.8988,5.7009,4.4007\n",
            "-1.01352,-4.28169,0.533488\n",
            "2.38816,-1.51075,-6.8932\n",
            "-0.651897,3.75301,0.429989\n"
          ]
        },
        {
          "output_type": "execute_result",
          "data": {
            "text/plain": []
          },
          "metadata": {},
          "execution_count": 11
        }
      ]
    },
    {
      "cell_type": "code",
      "source": [
        "%%shell\n",
        "nvprof ./test"
      ],
      "metadata": {
        "colab": {
          "base_uri": "https://localhost:8080/"
        },
        "id": "25CDaZQepL4z",
        "outputId": "5ce63cc6-07e3-4a0d-84df-4e09a2aa3a59"
      },
      "execution_count": 12,
      "outputs": [
        {
          "output_type": "stream",
          "name": "stdout",
          "text": [
            "==307== NVPROF is profiling process 307, command: ./test\n",
            "0.703798,-3.19147,5.94139\n",
            "8.00734,-1.25612,-12.0063\n",
            "-3.42585,-9.84311,1.03338\n",
            "12.6441,-0.0720719,-0.851646\n",
            "4.04376,5.91137,-11.0488\n",
            "1.46846,5.80696,-4.86355\n",
            "9.8988,5.7009,4.4007\n",
            "-1.01352,-4.28169,0.533488\n",
            "2.38816,-1.51075,-6.8932\n",
            "-0.651897,3.75301,0.429989\n",
            "==307== Profiling application: ./test\n",
            "==307== Profiling result:\n",
            "            Type  Time(%)      Time     Calls       Avg       Min       Max  Name\n",
            " GPU activities:   99.74%  328.12ms         1  328.12ms  328.12ms  328.12ms  acc_sph(float*, float*, float*, float*, float*, float*, float*, float*, float*, float*, float*, float*, float*, float*, float*, float*, float, float, int)\n",
            "                    0.22%  727.09us        16  45.443us  45.087us  46.016us  [CUDA memcpy HtoD]\n",
            "                    0.04%  130.91us         3  43.636us  41.887us  47.136us  [CUDA memcpy DtoH]\n",
            "      API calls:   50.71%  328.16ms         1  328.16ms  328.16ms  328.16ms  cudaDeviceSynchronize\n",
            "                   48.61%  314.56ms        16  19.660ms  1.9550us  314.12ms  cudaMalloc\n",
            "                    0.49%  3.1597ms        19  166.30us  156.53us  208.00us  cudaMemcpy\n",
            "                    0.10%  677.39us        16  42.336us  2.4370us  159.88us  cudaFree\n",
            "                    0.06%  370.73us         1  370.73us  370.73us  370.73us  cuDeviceTotalMem\n",
            "                    0.03%  173.79us       101  1.7200us     138ns  78.972us  cuDeviceGetAttribute\n",
            "                    0.00%  29.456us         1  29.456us  29.456us  29.456us  cuDeviceGetName\n",
            "                    0.00%  27.580us         1  27.580us  27.580us  27.580us  cudaLaunchKernel\n",
            "                    0.00%  7.1830us         1  7.1830us  7.1830us  7.1830us  cuDeviceGetPCIBusId\n",
            "                    0.00%  1.8800us         2     940ns     332ns  1.5480us  cuDeviceGet\n",
            "                    0.00%  1.7580us         3     586ns     205ns  1.1810us  cuDeviceGetCount\n",
            "                    0.00%     363ns         1     363ns     363ns     363ns  cuDeviceGetUuid\n"
          ]
        },
        {
          "output_type": "execute_result",
          "data": {
            "text/plain": []
          },
          "metadata": {},
          "execution_count": 12
        }
      ]
    },
    {
      "cell_type": "code",
      "source": [],
      "metadata": {
        "id": "sHvIpJI-qf1s"
      },
      "execution_count": null,
      "outputs": []
    }
  ]
}